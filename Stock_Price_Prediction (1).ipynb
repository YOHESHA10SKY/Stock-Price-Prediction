{
 "cells": [
  {
   "cell_type": "code",
   "execution_count": 1,
   "id": "81559370",
   "metadata": {},
   "outputs": [],
   "source": [
    "import numpy as np\n",
    "import pandas as pd\n",
    "from pandas import read_csv as rc\n",
    "import matplotlib.pyplot as plt\n",
    "from sklearn.model_selection import train_test_split as tts\n",
    "from datetime import datetime"
   ]
  },
  {
   "cell_type": "code",
   "execution_count": 2,
   "id": "647efe8d",
   "metadata": {},
   "outputs": [],
   "source": [
    "data=rc(r\"D:\\yohesha\\Code Casa Internship\\TESLA.csv\")"
   ]
  },
  {
   "cell_type": "code",
   "execution_count": 3,
   "id": "cea6c109",
   "metadata": {},
   "outputs": [
    {
     "data": {
      "text/html": [
       "<div>\n",
       "<style scoped>\n",
       "    .dataframe tbody tr th:only-of-type {\n",
       "        vertical-align: middle;\n",
       "    }\n",
       "\n",
       "    .dataframe tbody tr th {\n",
       "        vertical-align: top;\n",
       "    }\n",
       "\n",
       "    .dataframe thead th {\n",
       "        text-align: right;\n",
       "    }\n",
       "</style>\n",
       "<table border=\"1\" class=\"dataframe\">\n",
       "  <thead>\n",
       "    <tr style=\"text-align: right;\">\n",
       "      <th></th>\n",
       "      <th>Date</th>\n",
       "      <th>Open</th>\n",
       "      <th>High</th>\n",
       "      <th>Low</th>\n",
       "      <th>Close</th>\n",
       "      <th>Adj Close</th>\n",
       "      <th>Volume</th>\n",
       "    </tr>\n",
       "  </thead>\n",
       "  <tbody>\n",
       "    <tr>\n",
       "      <th>0</th>\n",
       "      <td>2021-09-29</td>\n",
       "      <td>259.933319</td>\n",
       "      <td>264.500000</td>\n",
       "      <td>256.893341</td>\n",
       "      <td>260.436676</td>\n",
       "      <td>260.436676</td>\n",
       "      <td>62828700</td>\n",
       "    </tr>\n",
       "    <tr>\n",
       "      <th>1</th>\n",
       "      <td>2021-09-30</td>\n",
       "      <td>260.333344</td>\n",
       "      <td>263.043335</td>\n",
       "      <td>258.333344</td>\n",
       "      <td>258.493347</td>\n",
       "      <td>258.493347</td>\n",
       "      <td>53868000</td>\n",
       "    </tr>\n",
       "    <tr>\n",
       "      <th>2</th>\n",
       "      <td>2021-10-01</td>\n",
       "      <td>259.466675</td>\n",
       "      <td>260.260010</td>\n",
       "      <td>254.529999</td>\n",
       "      <td>258.406677</td>\n",
       "      <td>258.406677</td>\n",
       "      <td>51094200</td>\n",
       "    </tr>\n",
       "    <tr>\n",
       "      <th>3</th>\n",
       "      <td>2021-10-04</td>\n",
       "      <td>265.500000</td>\n",
       "      <td>268.989990</td>\n",
       "      <td>258.706665</td>\n",
       "      <td>260.510010</td>\n",
       "      <td>260.510010</td>\n",
       "      <td>91449900</td>\n",
       "    </tr>\n",
       "    <tr>\n",
       "      <th>4</th>\n",
       "      <td>2021-10-05</td>\n",
       "      <td>261.600006</td>\n",
       "      <td>265.769989</td>\n",
       "      <td>258.066681</td>\n",
       "      <td>260.196655</td>\n",
       "      <td>260.196655</td>\n",
       "      <td>55297800</td>\n",
       "    </tr>\n",
       "    <tr>\n",
       "      <th>...</th>\n",
       "      <td>...</td>\n",
       "      <td>...</td>\n",
       "      <td>...</td>\n",
       "      <td>...</td>\n",
       "      <td>...</td>\n",
       "      <td>...</td>\n",
       "      <td>...</td>\n",
       "    </tr>\n",
       "    <tr>\n",
       "      <th>248</th>\n",
       "      <td>2022-09-23</td>\n",
       "      <td>283.089996</td>\n",
       "      <td>284.500000</td>\n",
       "      <td>272.820007</td>\n",
       "      <td>275.329987</td>\n",
       "      <td>275.329987</td>\n",
       "      <td>63615400</td>\n",
       "    </tr>\n",
       "    <tr>\n",
       "      <th>249</th>\n",
       "      <td>2022-09-26</td>\n",
       "      <td>271.829987</td>\n",
       "      <td>284.089996</td>\n",
       "      <td>270.309998</td>\n",
       "      <td>276.010010</td>\n",
       "      <td>276.010010</td>\n",
       "      <td>58076900</td>\n",
       "    </tr>\n",
       "    <tr>\n",
       "      <th>250</th>\n",
       "      <td>2022-09-27</td>\n",
       "      <td>283.839996</td>\n",
       "      <td>288.670013</td>\n",
       "      <td>277.510010</td>\n",
       "      <td>282.940002</td>\n",
       "      <td>282.940002</td>\n",
       "      <td>61925200</td>\n",
       "    </tr>\n",
       "    <tr>\n",
       "      <th>251</th>\n",
       "      <td>2022-09-28</td>\n",
       "      <td>283.079987</td>\n",
       "      <td>289.000000</td>\n",
       "      <td>277.570007</td>\n",
       "      <td>287.809998</td>\n",
       "      <td>287.809998</td>\n",
       "      <td>54664800</td>\n",
       "    </tr>\n",
       "    <tr>\n",
       "      <th>252</th>\n",
       "      <td>2022-09-29</td>\n",
       "      <td>282.760010</td>\n",
       "      <td>283.649994</td>\n",
       "      <td>265.779999</td>\n",
       "      <td>268.209991</td>\n",
       "      <td>268.209991</td>\n",
       "      <td>77393100</td>\n",
       "    </tr>\n",
       "  </tbody>\n",
       "</table>\n",
       "<p>253 rows × 7 columns</p>\n",
       "</div>"
      ],
      "text/plain": [
       "           Date        Open        High         Low       Close   Adj Close  \\\n",
       "0    2021-09-29  259.933319  264.500000  256.893341  260.436676  260.436676   \n",
       "1    2021-09-30  260.333344  263.043335  258.333344  258.493347  258.493347   \n",
       "2    2021-10-01  259.466675  260.260010  254.529999  258.406677  258.406677   \n",
       "3    2021-10-04  265.500000  268.989990  258.706665  260.510010  260.510010   \n",
       "4    2021-10-05  261.600006  265.769989  258.066681  260.196655  260.196655   \n",
       "..          ...         ...         ...         ...         ...         ...   \n",
       "248  2022-09-23  283.089996  284.500000  272.820007  275.329987  275.329987   \n",
       "249  2022-09-26  271.829987  284.089996  270.309998  276.010010  276.010010   \n",
       "250  2022-09-27  283.839996  288.670013  277.510010  282.940002  282.940002   \n",
       "251  2022-09-28  283.079987  289.000000  277.570007  287.809998  287.809998   \n",
       "252  2022-09-29  282.760010  283.649994  265.779999  268.209991  268.209991   \n",
       "\n",
       "       Volume  \n",
       "0    62828700  \n",
       "1    53868000  \n",
       "2    51094200  \n",
       "3    91449900  \n",
       "4    55297800  \n",
       "..        ...  \n",
       "248  63615400  \n",
       "249  58076900  \n",
       "250  61925200  \n",
       "251  54664800  \n",
       "252  77393100  \n",
       "\n",
       "[253 rows x 7 columns]"
      ]
     },
     "execution_count": 3,
     "metadata": {},
     "output_type": "execute_result"
    }
   ],
   "source": [
    "data"
   ]
  },
  {
   "cell_type": "code",
   "execution_count": 4,
   "id": "aae7de5f",
   "metadata": {},
   "outputs": [
    {
     "data": {
      "text/html": [
       "<div>\n",
       "<style scoped>\n",
       "    .dataframe tbody tr th:only-of-type {\n",
       "        vertical-align: middle;\n",
       "    }\n",
       "\n",
       "    .dataframe tbody tr th {\n",
       "        vertical-align: top;\n",
       "    }\n",
       "\n",
       "    .dataframe thead th {\n",
       "        text-align: right;\n",
       "    }\n",
       "</style>\n",
       "<table border=\"1\" class=\"dataframe\">\n",
       "  <thead>\n",
       "    <tr style=\"text-align: right;\">\n",
       "      <th></th>\n",
       "      <th>Date</th>\n",
       "      <th>Open</th>\n",
       "      <th>High</th>\n",
       "      <th>Low</th>\n",
       "      <th>Close</th>\n",
       "      <th>Adj Close</th>\n",
       "      <th>Volume</th>\n",
       "    </tr>\n",
       "  </thead>\n",
       "  <tbody>\n",
       "    <tr>\n",
       "      <th>0</th>\n",
       "      <td>2021-09-29</td>\n",
       "      <td>259.933319</td>\n",
       "      <td>264.500000</td>\n",
       "      <td>256.893341</td>\n",
       "      <td>260.436676</td>\n",
       "      <td>260.436676</td>\n",
       "      <td>62828700</td>\n",
       "    </tr>\n",
       "    <tr>\n",
       "      <th>1</th>\n",
       "      <td>2021-09-30</td>\n",
       "      <td>260.333344</td>\n",
       "      <td>263.043335</td>\n",
       "      <td>258.333344</td>\n",
       "      <td>258.493347</td>\n",
       "      <td>258.493347</td>\n",
       "      <td>53868000</td>\n",
       "    </tr>\n",
       "    <tr>\n",
       "      <th>2</th>\n",
       "      <td>2021-10-01</td>\n",
       "      <td>259.466675</td>\n",
       "      <td>260.260010</td>\n",
       "      <td>254.529999</td>\n",
       "      <td>258.406677</td>\n",
       "      <td>258.406677</td>\n",
       "      <td>51094200</td>\n",
       "    </tr>\n",
       "    <tr>\n",
       "      <th>3</th>\n",
       "      <td>2021-10-04</td>\n",
       "      <td>265.500000</td>\n",
       "      <td>268.989990</td>\n",
       "      <td>258.706665</td>\n",
       "      <td>260.510010</td>\n",
       "      <td>260.510010</td>\n",
       "      <td>91449900</td>\n",
       "    </tr>\n",
       "    <tr>\n",
       "      <th>4</th>\n",
       "      <td>2021-10-05</td>\n",
       "      <td>261.600006</td>\n",
       "      <td>265.769989</td>\n",
       "      <td>258.066681</td>\n",
       "      <td>260.196655</td>\n",
       "      <td>260.196655</td>\n",
       "      <td>55297800</td>\n",
       "    </tr>\n",
       "  </tbody>\n",
       "</table>\n",
       "</div>"
      ],
      "text/plain": [
       "         Date        Open        High         Low       Close   Adj Close  \\\n",
       "0  2021-09-29  259.933319  264.500000  256.893341  260.436676  260.436676   \n",
       "1  2021-09-30  260.333344  263.043335  258.333344  258.493347  258.493347   \n",
       "2  2021-10-01  259.466675  260.260010  254.529999  258.406677  258.406677   \n",
       "3  2021-10-04  265.500000  268.989990  258.706665  260.510010  260.510010   \n",
       "4  2021-10-05  261.600006  265.769989  258.066681  260.196655  260.196655   \n",
       "\n",
       "     Volume  \n",
       "0  62828700  \n",
       "1  53868000  \n",
       "2  51094200  \n",
       "3  91449900  \n",
       "4  55297800  "
      ]
     },
     "execution_count": 4,
     "metadata": {},
     "output_type": "execute_result"
    }
   ],
   "source": [
    "data.head()"
   ]
  },
  {
   "cell_type": "code",
   "execution_count": 5,
   "id": "51442ef7",
   "metadata": {},
   "outputs": [
    {
     "name": "stdout",
     "output_type": "stream",
     "text": [
      "<class 'pandas.core.frame.DataFrame'>\n",
      "RangeIndex: 253 entries, 0 to 252\n",
      "Data columns (total 7 columns):\n",
      " #   Column     Non-Null Count  Dtype  \n",
      "---  ------     --------------  -----  \n",
      " 0   Date       253 non-null    object \n",
      " 1   Open       253 non-null    float64\n",
      " 2   High       253 non-null    float64\n",
      " 3   Low        253 non-null    float64\n",
      " 4   Close      253 non-null    float64\n",
      " 5   Adj Close  253 non-null    float64\n",
      " 6   Volume     253 non-null    int64  \n",
      "dtypes: float64(5), int64(1), object(1)\n",
      "memory usage: 14.0+ KB\n"
     ]
    }
   ],
   "source": [
    "data.info()"
   ]
  },
  {
   "cell_type": "code",
   "execution_count": 6,
   "id": "2828a848",
   "metadata": {},
   "outputs": [],
   "source": [
    "data['Date']=pd.to_datetime(data['Date'])"
   ]
  },
  {
   "cell_type": "code",
   "execution_count": 7,
   "id": "f854e048",
   "metadata": {},
   "outputs": [
    {
     "name": "stdout",
     "output_type": "stream",
     "text": [
      "<class 'pandas.core.frame.DataFrame'>\n",
      "RangeIndex: 253 entries, 0 to 252\n",
      "Data columns (total 7 columns):\n",
      " #   Column     Non-Null Count  Dtype         \n",
      "---  ------     --------------  -----         \n",
      " 0   Date       253 non-null    datetime64[ns]\n",
      " 1   Open       253 non-null    float64       \n",
      " 2   High       253 non-null    float64       \n",
      " 3   Low        253 non-null    float64       \n",
      " 4   Close      253 non-null    float64       \n",
      " 5   Adj Close  253 non-null    float64       \n",
      " 6   Volume     253 non-null    int64         \n",
      "dtypes: datetime64[ns](1), float64(5), int64(1)\n",
      "memory usage: 14.0 KB\n"
     ]
    }
   ],
   "source": [
    "data.info()"
   ]
  },
  {
   "cell_type": "code",
   "execution_count": 8,
   "id": "eef61000",
   "metadata": {},
   "outputs": [
    {
     "data": {
      "text/html": [
       "<div>\n",
       "<style scoped>\n",
       "    .dataframe tbody tr th:only-of-type {\n",
       "        vertical-align: middle;\n",
       "    }\n",
       "\n",
       "    .dataframe tbody tr th {\n",
       "        vertical-align: top;\n",
       "    }\n",
       "\n",
       "    .dataframe thead th {\n",
       "        text-align: right;\n",
       "    }\n",
       "</style>\n",
       "<table border=\"1\" class=\"dataframe\">\n",
       "  <thead>\n",
       "    <tr style=\"text-align: right;\">\n",
       "      <th></th>\n",
       "      <th>count</th>\n",
       "      <th>mean</th>\n",
       "      <th>min</th>\n",
       "      <th>25%</th>\n",
       "      <th>50%</th>\n",
       "      <th>75%</th>\n",
       "      <th>max</th>\n",
       "      <th>std</th>\n",
       "    </tr>\n",
       "  </thead>\n",
       "  <tbody>\n",
       "    <tr>\n",
       "      <th>Date</th>\n",
       "      <td>253</td>\n",
       "      <td>2022-03-30 09:23:28.695652096</td>\n",
       "      <td>2021-09-29 00:00:00</td>\n",
       "      <td>2021-12-29 00:00:00</td>\n",
       "      <td>2022-03-30 00:00:00</td>\n",
       "      <td>2022-06-30 00:00:00</td>\n",
       "      <td>2022-09-29 00:00:00</td>\n",
       "      <td>NaN</td>\n",
       "    </tr>\n",
       "    <tr>\n",
       "      <th>Open</th>\n",
       "      <td>253.0</td>\n",
       "      <td>300.136008</td>\n",
       "      <td>207.949997</td>\n",
       "      <td>266.513336</td>\n",
       "      <td>298.5</td>\n",
       "      <td>335.600006</td>\n",
       "      <td>411.470001</td>\n",
       "      <td>46.139272</td>\n",
       "    </tr>\n",
       "    <tr>\n",
       "      <th>High</th>\n",
       "      <td>253.0</td>\n",
       "      <td>307.486021</td>\n",
       "      <td>217.973328</td>\n",
       "      <td>273.166656</td>\n",
       "      <td>303.709991</td>\n",
       "      <td>344.950012</td>\n",
       "      <td>414.496674</td>\n",
       "      <td>46.789896</td>\n",
       "    </tr>\n",
       "    <tr>\n",
       "      <th>Low</th>\n",
       "      <td>253.0</td>\n",
       "      <td>292.114058</td>\n",
       "      <td>206.856674</td>\n",
       "      <td>260.723328</td>\n",
       "      <td>289.130005</td>\n",
       "      <td>327.51001</td>\n",
       "      <td>405.666656</td>\n",
       "      <td>44.685331</td>\n",
       "    </tr>\n",
       "    <tr>\n",
       "      <th>Close</th>\n",
       "      <td>253.0</td>\n",
       "      <td>299.709104</td>\n",
       "      <td>209.386673</td>\n",
       "      <td>266.92334</td>\n",
       "      <td>296.666656</td>\n",
       "      <td>336.33667</td>\n",
       "      <td>409.970001</td>\n",
       "      <td>45.788283</td>\n",
       "    </tr>\n",
       "    <tr>\n",
       "      <th>Adj Close</th>\n",
       "      <td>253.0</td>\n",
       "      <td>299.709104</td>\n",
       "      <td>209.386673</td>\n",
       "      <td>266.92334</td>\n",
       "      <td>296.666656</td>\n",
       "      <td>336.33667</td>\n",
       "      <td>409.970001</td>\n",
       "      <td>45.788283</td>\n",
       "    </tr>\n",
       "    <tr>\n",
       "      <th>Volume</th>\n",
       "      <td>253.0</td>\n",
       "      <td>80509379.051383</td>\n",
       "      <td>35042700.0</td>\n",
       "      <td>62555700.0</td>\n",
       "      <td>76956300.0</td>\n",
       "      <td>93473100.0</td>\n",
       "      <td>188556300.0</td>\n",
       "      <td>25465945.026704</td>\n",
       "    </tr>\n",
       "  </tbody>\n",
       "</table>\n",
       "</div>"
      ],
      "text/plain": [
       "           count                           mean                  min  \\\n",
       "Date         253  2022-03-30 09:23:28.695652096  2021-09-29 00:00:00   \n",
       "Open       253.0                     300.136008           207.949997   \n",
       "High       253.0                     307.486021           217.973328   \n",
       "Low        253.0                     292.114058           206.856674   \n",
       "Close      253.0                     299.709104           209.386673   \n",
       "Adj Close  253.0                     299.709104           209.386673   \n",
       "Volume     253.0                80509379.051383           35042700.0   \n",
       "\n",
       "                           25%                  50%                  75%  \\\n",
       "Date       2021-12-29 00:00:00  2022-03-30 00:00:00  2022-06-30 00:00:00   \n",
       "Open                266.513336                298.5           335.600006   \n",
       "High                273.166656           303.709991           344.950012   \n",
       "Low                 260.723328           289.130005            327.51001   \n",
       "Close                266.92334           296.666656            336.33667   \n",
       "Adj Close            266.92334           296.666656            336.33667   \n",
       "Volume              62555700.0           76956300.0           93473100.0   \n",
       "\n",
       "                           max              std  \n",
       "Date       2022-09-29 00:00:00              NaN  \n",
       "Open                411.470001        46.139272  \n",
       "High                414.496674        46.789896  \n",
       "Low                 405.666656        44.685331  \n",
       "Close               409.970001        45.788283  \n",
       "Adj Close           409.970001        45.788283  \n",
       "Volume             188556300.0  25465945.026704  "
      ]
     },
     "execution_count": 8,
     "metadata": {},
     "output_type": "execute_result"
    }
   ],
   "source": [
    "data.describe().T"
   ]
  },
  {
   "cell_type": "code",
   "execution_count": 9,
   "id": "cb6a5bbf",
   "metadata": {},
   "outputs": [
    {
     "data": {
      "text/plain": [
       "<Figure size 2000x2000 with 0 Axes>"
      ]
     },
     "execution_count": 9,
     "metadata": {},
     "output_type": "execute_result"
    },
    {
     "data": {
      "image/png": "[encoded data removed]",
      "text/plain": [
       "<Figure size 640x480 with 1 Axes>"
      ]
     },
     "metadata": {},
     "output_type": "display_data"
    },
    {
     "data": {
      "text/plain": [
       "<Figure size 2000x2000 with 0 Axes>"
      ]
     },
     "metadata": {},
     "output_type": "display_data"
    }
   ],
   "source": [
    "plt.plot(data['Date'],data['Open'],c='r')\n",
    "plt.plot(data['Date'],data['Close'])\n",
    "plt.title(\"Date vs Open & CLose\")\n",
    "plt.xlabel(\"Date\")\n",
    "plt.ylabel(\"Open and Close\")\n",
    "plt.figure(figsize=(20,20))\n",
    "\n"
   ]
  },
  {
   "cell_type": "code",
   "execution_count": 10,
   "id": "96b7b8b0",
   "metadata": {},
   "outputs": [],
   "source": [
    "data_x=data.drop(data[['Date','Close','Adj Close']],axis=1)"
   ]
  },
  {
   "cell_type": "code",
   "execution_count": 11,
   "id": "a9790925",
   "metadata": {},
   "outputs": [
    {
     "data": {
      "text/html": [
       "<div>\n",
       "<style scoped>\n",
       "    .dataframe tbody tr th:only-of-type {\n",
       "        vertical-align: middle;\n",
       "    }\n",
       "\n",
       "    .dataframe tbody tr th {\n",
       "        vertical-align: top;\n",
       "    }\n",
       "\n",
       "    .dataframe thead th {\n",
       "        text-align: right;\n",
       "    }\n",
       "</style>\n",
       "<table border=\"1\" class=\"dataframe\">\n",
       "  <thead>\n",
       "    <tr style=\"text-align: right;\">\n",
       "      <th></th>\n",
       "      <th>Open</th>\n",
       "      <th>High</th>\n",
       "      <th>Low</th>\n",
       "      <th>Volume</th>\n",
       "    </tr>\n",
       "  </thead>\n",
       "  <tbody>\n",
       "    <tr>\n",
       "      <th>0</th>\n",
       "      <td>259.933319</td>\n",
       "      <td>264.500000</td>\n",
       "      <td>256.893341</td>\n",
       "      <td>62828700</td>\n",
       "    </tr>\n",
       "    <tr>\n",
       "      <th>1</th>\n",
       "      <td>260.333344</td>\n",
       "      <td>263.043335</td>\n",
       "      <td>258.333344</td>\n",
       "      <td>53868000</td>\n",
       "    </tr>\n",
       "    <tr>\n",
       "      <th>2</th>\n",
       "      <td>259.466675</td>\n",
       "      <td>260.260010</td>\n",
       "      <td>254.529999</td>\n",
       "      <td>51094200</td>\n",
       "    </tr>\n",
       "    <tr>\n",
       "      <th>3</th>\n",
       "      <td>265.500000</td>\n",
       "      <td>268.989990</td>\n",
       "      <td>258.706665</td>\n",
       "      <td>91449900</td>\n",
       "    </tr>\n",
       "    <tr>\n",
       "      <th>4</th>\n",
       "      <td>261.600006</td>\n",
       "      <td>265.769989</td>\n",
       "      <td>258.066681</td>\n",
       "      <td>55297800</td>\n",
       "    </tr>\n",
       "    <tr>\n",
       "      <th>...</th>\n",
       "      <td>...</td>\n",
       "      <td>...</td>\n",
       "      <td>...</td>\n",
       "      <td>...</td>\n",
       "    </tr>\n",
       "    <tr>\n",
       "      <th>248</th>\n",
       "      <td>283.089996</td>\n",
       "      <td>284.500000</td>\n",
       "      <td>272.820007</td>\n",
       "      <td>63615400</td>\n",
       "    </tr>\n",
       "    <tr>\n",
       "      <th>249</th>\n",
       "      <td>271.829987</td>\n",
       "      <td>284.089996</td>\n",
       "      <td>270.309998</td>\n",
       "      <td>58076900</td>\n",
       "    </tr>\n",
       "    <tr>\n",
       "      <th>250</th>\n",
       "      <td>283.839996</td>\n",
       "      <td>288.670013</td>\n",
       "      <td>277.510010</td>\n",
       "      <td>61925200</td>\n",
       "    </tr>\n",
       "    <tr>\n",
       "      <th>251</th>\n",
       "      <td>283.079987</td>\n",
       "      <td>289.000000</td>\n",
       "      <td>277.570007</td>\n",
       "      <td>54664800</td>\n",
       "    </tr>\n",
       "    <tr>\n",
       "      <th>252</th>\n",
       "      <td>282.760010</td>\n",
       "      <td>283.649994</td>\n",
       "      <td>265.779999</td>\n",
       "      <td>77393100</td>\n",
       "    </tr>\n",
       "  </tbody>\n",
       "</table>\n",
       "<p>253 rows × 4 columns</p>\n",
       "</div>"
      ],
      "text/plain": [
       "           Open        High         Low    Volume\n",
       "0    259.933319  264.500000  256.893341  62828700\n",
       "1    260.333344  263.043335  258.333344  53868000\n",
       "2    259.466675  260.260010  254.529999  51094200\n",
       "3    265.500000  268.989990  258.706665  91449900\n",
       "4    261.600006  265.769989  258.066681  55297800\n",
       "..          ...         ...         ...       ...\n",
       "248  283.089996  284.500000  272.820007  63615400\n",
       "249  271.829987  284.089996  270.309998  58076900\n",
       "250  283.839996  288.670013  277.510010  61925200\n",
       "251  283.079987  289.000000  277.570007  54664800\n",
       "252  282.760010  283.649994  265.779999  77393100\n",
       "\n",
       "[253 rows x 4 columns]"
      ]
     },
     "execution_count": 11,
     "metadata": {},
     "output_type": "execute_result"
    }
   ],
   "source": [
    "data_x"
   ]
  },
  {
   "cell_type": "code",
   "execution_count": 12,
   "id": "e2bc6ae1",
   "metadata": {},
   "outputs": [],
   "source": [
    "data_y=data['Close']"
   ]
  },
  {
   "cell_type": "code",
   "execution_count": 13,
   "id": "ee525e30",
   "metadata": {},
   "outputs": [
    {
     "data": {
      "text/plain": [
       "0      260.436676\n",
       "1      258.493347\n",
       "2      258.406677\n",
       "3      260.510010\n",
       "4      260.196655\n",
       "          ...    \n",
       "248    275.329987\n",
       "249    276.010010\n",
       "250    282.940002\n",
       "251    287.809998\n",
       "252    268.209991\n",
       "Name: Close, Length: 253, dtype: float64"
      ]
     },
     "execution_count": 13,
     "metadata": {},
     "output_type": "execute_result"
    }
   ],
   "source": [
    "data_y"
   ]
  },
  {
   "cell_type": "code",
   "execution_count": 14,
   "id": "1a2c7135",
   "metadata": {},
   "outputs": [],
   "source": [
    "from sklearn.linear_model import LinearRegression"
   ]
  },
  {
   "cell_type": "code",
   "execution_count": 15,
   "id": "8b5ea2d3",
   "metadata": {},
   "outputs": [],
   "source": [
    "Stocks_price_predictor_Linear_Reg=LinearRegression()"
   ]
  },
  {
   "cell_type": "code",
   "execution_count": 16,
   "id": "15d1c9c4",
   "metadata": {},
   "outputs": [],
   "source": [
    "Train_x,Test_x,Train_y,Test_y=tts(data_x,data_y,test_size=0.3,random_state=42)"
   ]
  },
  {
   "cell_type": "code",
   "execution_count": 17,
   "id": "2a620ed9",
   "metadata": {},
   "outputs": [
    {
     "data": {
      "text/html": [
       "<div>\n",
       "<style scoped>\n",
       "    .dataframe tbody tr th:only-of-type {\n",
       "        vertical-align: middle;\n",
       "    }\n",
       "\n",
       "    .dataframe tbody tr th {\n",
       "        vertical-align: top;\n",
       "    }\n",
       "\n",
       "    .dataframe thead th {\n",
       "        text-align: right;\n",
       "    }\n",
       "</style>\n",
       "<table border=\"1\" class=\"dataframe\">\n",
       "  <thead>\n",
       "    <tr style=\"text-align: right;\">\n",
       "      <th></th>\n",
       "      <th>Open</th>\n",
       "      <th>High</th>\n",
       "      <th>Low</th>\n",
       "      <th>Volume</th>\n",
       "    </tr>\n",
       "  </thead>\n",
       "  <tbody>\n",
       "    <tr>\n",
       "      <th>113</th>\n",
       "      <td>280.066681</td>\n",
       "      <td>281.266663</td>\n",
       "      <td>264.589996</td>\n",
       "      <td>67037100</td>\n",
       "    </tr>\n",
       "    <tr>\n",
       "      <th>240</th>\n",
       "      <td>292.899994</td>\n",
       "      <td>297.399994</td>\n",
       "      <td>290.399994</td>\n",
       "      <td>68229600</td>\n",
       "    </tr>\n",
       "    <tr>\n",
       "      <th>90</th>\n",
       "      <td>307.929993</td>\n",
       "      <td>315.923340</td>\n",
       "      <td>300.903320</td>\n",
       "      <td>60994500</td>\n",
       "    </tr>\n",
       "    <tr>\n",
       "      <th>29</th>\n",
       "      <td>391.200012</td>\n",
       "      <td>391.500000</td>\n",
       "      <td>337.173340</td>\n",
       "      <td>177317400</td>\n",
       "    </tr>\n",
       "    <tr>\n",
       "      <th>215</th>\n",
       "      <td>295.000000</td>\n",
       "      <td>305.200012</td>\n",
       "      <td>289.086670</td>\n",
       "      <td>98994000</td>\n",
       "    </tr>\n",
       "    <tr>\n",
       "      <th>...</th>\n",
       "      <td>...</td>\n",
       "      <td>...</td>\n",
       "      <td>...</td>\n",
       "      <td>...</td>\n",
       "    </tr>\n",
       "    <tr>\n",
       "      <th>106</th>\n",
       "      <td>290.709991</td>\n",
       "      <td>295.493347</td>\n",
       "      <td>281.423340</td>\n",
       "      <td>74643300</td>\n",
       "    </tr>\n",
       "    <tr>\n",
       "      <th>14</th>\n",
       "      <td>292.510010</td>\n",
       "      <td>292.649994</td>\n",
       "      <td>287.503326</td>\n",
       "      <td>52143300</td>\n",
       "    </tr>\n",
       "    <tr>\n",
       "      <th>92</th>\n",
       "      <td>311.666656</td>\n",
       "      <td>315.423340</td>\n",
       "      <td>306.666656</td>\n",
       "      <td>52259400</td>\n",
       "    </tr>\n",
       "    <tr>\n",
       "      <th>179</th>\n",
       "      <td>220.916672</td>\n",
       "      <td>235.663330</td>\n",
       "      <td>218.149994</td>\n",
       "      <td>119131800</td>\n",
       "    </tr>\n",
       "    <tr>\n",
       "      <th>102</th>\n",
       "      <td>233.463333</td>\n",
       "      <td>267.493347</td>\n",
       "      <td>233.333328</td>\n",
       "      <td>135322200</td>\n",
       "    </tr>\n",
       "  </tbody>\n",
       "</table>\n",
       "<p>177 rows × 4 columns</p>\n",
       "</div>"
      ],
      "text/plain": [
       "           Open        High         Low     Volume\n",
       "113  280.066681  281.266663  264.589996   67037100\n",
       "240  292.899994  297.399994  290.399994   68229600\n",
       "90   307.929993  315.923340  300.903320   60994500\n",
       "29   391.200012  391.500000  337.173340  177317400\n",
       "215  295.000000  305.200012  289.086670   98994000\n",
       "..          ...         ...         ...        ...\n",
       "106  290.709991  295.493347  281.423340   74643300\n",
       "14   292.510010  292.649994  287.503326   52143300\n",
       "92   311.666656  315.423340  306.666656   52259400\n",
       "179  220.916672  235.663330  218.149994  119131800\n",
       "102  233.463333  267.493347  233.333328  135322200\n",
       "\n",
       "[177 rows x 4 columns]"
      ]
     },
     "execution_count": 17,
     "metadata": {},
     "output_type": "execute_result"
    }
   ],
   "source": [
    "Train_x"
   ]
  },
  {
   "cell_type": "code",
   "execution_count": 18,
   "id": "cba1855d",
   "metadata": {},
   "outputs": [
    {
     "data": {
      "text/html": [
       "<style>#sk-container-id-1 {color: black;}#sk-container-id-1 pre{padding: 0;}#sk-container-id-1 div.sk-toggleable {background-color: white;}#sk-container-id-1 label.sk-toggleable__label {cursor: pointer;display: block;width: 100%;margin-bottom: 0;padding: 0.3em;box-sizing: border-box;text-align: center;}#sk-container-id-1 label.sk-toggleable__label-arrow:before {content: \"▸\";float: left;margin-right: 0.25em;color: #696969;}#sk-container-id-1 label.sk-toggleable__label-arrow:hover:before {color: black;}#sk-container-id-1 div.sk-estimator:hover label.sk-toggleable__label-arrow:before {color: black;}#sk-container-id-1 div.sk-toggleable__content {max-height: 0;max-width: 0;overflow: hidden;text-align: left;background-color: #f0f8ff;}#sk-container-id-1 div.sk-toggleable__content pre {margin: 0.2em;color: black;border-radius: 0.25em;background-color: #f0f8ff;}#sk-container-id-1 input.sk-toggleable__control:checked~div.sk-toggleable__content {max-height: 200px;max-width: 100%;overflow: auto;}#sk-container-id-1 input.sk-toggleable__control:checked~label.sk-toggleable__label-arrow:before {content: \"▾\";}#sk-container-id-1 div.sk-estimator input.sk-toggleable__control:checked~label.sk-toggleable__label {background-color: #d4ebff;}#sk-container-id-1 div.sk-label input.sk-toggleable__control:checked~label.sk-toggleable__label {background-color: #d4ebff;}#sk-container-id-1 input.sk-hidden--visually {border: 0;clip: rect(1px 1px 1px 1px);clip: rect(1px, 1px, 1px, 1px);height: 1px;margin: -1px;overflow: hidden;padding: 0;position: absolute;width: 1px;}#sk-container-id-1 div.sk-estimator {font-family: monospace;background-color: #f0f8ff;border: 1px dotted black;border-radius: 0.25em;box-sizing: border-box;margin-bottom: 0.5em;}#sk-container-id-1 div.sk-estimator:hover {background-color: #d4ebff;}#sk-container-id-1 div.sk-parallel-item::after {content: \"\";width: 100%;border-bottom: 1px solid gray;flex-grow: 1;}#sk-container-id-1 div.sk-label:hover label.sk-toggleable__label {background-color: #d4ebff;}#sk-container-id-1 div.sk-serial::before {content: \"\";position: absolute;border-left: 1px solid gray;box-sizing: border-box;top: 0;bottom: 0;left: 50%;z-index: 0;}#sk-container-id-1 div.sk-serial {display: flex;flex-direction: column;align-items: center;background-color: white;padding-right: 0.2em;padding-left: 0.2em;position: relative;}#sk-container-id-1 div.sk-item {position: relative;z-index: 1;}#sk-container-id-1 div.sk-parallel {display: flex;align-items: stretch;justify-content: center;background-color: white;position: relative;}#sk-container-id-1 div.sk-item::before, #sk-container-id-1 div.sk-parallel-item::before {content: \"\";position: absolute;border-left: 1px solid gray;box-sizing: border-box;top: 0;bottom: 0;left: 50%;z-index: -1;}#sk-container-id-1 div.sk-parallel-item {display: flex;flex-direction: column;z-index: 1;position: relative;background-color: white;}#sk-container-id-1 div.sk-parallel-item:first-child::after {align-self: flex-end;width: 50%;}#sk-container-id-1 div.sk-parallel-item:last-child::after {align-self: flex-start;width: 50%;}#sk-container-id-1 div.sk-parallel-item:only-child::after {width: 0;}#sk-container-id-1 div.sk-dashed-wrapped {border: 1px dashed gray;margin: 0 0.4em 0.5em 0.4em;box-sizing: border-box;padding-bottom: 0.4em;background-color: white;}#sk-container-id-1 div.sk-label label {font-family: monospace;font-weight: bold;display: inline-block;line-height: 1.2em;}#sk-container-id-1 div.sk-label-container {text-align: center;}#sk-container-id-1 div.sk-container {/* jupyter's `normalize.less` sets `[hidden] { display: none; }` but bootstrap.min.css set `[hidden] { display: none !important; }` so we also need the `!important` here to be able to override the default hidden behavior on the sphinx rendered scikit-learn.org. See: https://github.com/scikit-learn/scikit-learn/issues/21755 */display: inline-block !important;position: relative;}#sk-container-id-1 div.sk-text-repr-fallback {display: none;}</style><div id=\"sk-container-id-1\" class=\"sk-top-container\"><div class=\"sk-text-repr-fallback\"><pre>LinearRegression()</pre><b>In a Jupyter environment, please rerun this cell to show the HTML representation or trust the notebook. <br />On GitHub, the HTML representation is unable to render, please try loading this page with nbviewer.org.</b></div><div class=\"sk-container\" hidden><div class=\"sk-item\"><div class=\"sk-estimator sk-toggleable\"><input class=\"sk-toggleable__control sk-hidden--visually\" id=\"sk-estimator-id-1\" type=\"checkbox\" checked><label for=\"sk-estimator-id-1\" class=\"sk-toggleable__label sk-toggleable__label-arrow\">LinearRegression</label><div class=\"sk-toggleable__content\"><pre>LinearRegression()</pre></div></div></div></div></div>"
      ],
      "text/plain": [
       "LinearRegression()"
      ]
     },
     "execution_count": 18,
     "metadata": {},
     "output_type": "execute_result"
    }
   ],
   "source": [
    "Stocks_price_predictor_Linear_Reg.fit(Train_x,Train_y)"
   ]
  },
  {
   "cell_type": "code",
   "execution_count": 19,
   "id": "19dfdacf",
   "metadata": {},
   "outputs": [],
   "source": [
    "Prediction_LR=Stocks_price_predictor_Linear_Reg.predict(Test_x)"
   ]
  },
  {
   "cell_type": "code",
   "execution_count": 20,
   "id": "e7dc762a",
   "metadata": {},
   "outputs": [
    {
     "data": {
      "text/plain": [
       "array([276.94708206, 266.50886072, 319.17157062, 275.92638907,\n",
       "       287.30552368, 231.88033241, 245.25254461, 233.51941456,\n",
       "       269.01212585, 349.14016061, 283.14125949, 294.59340381,\n",
       "       301.62597956, 305.79322162, 336.7396511 , 370.21740923,\n",
       "       238.80561949, 287.23013561, 304.32276306, 396.8045167 ,\n",
       "       273.66149426, 355.38448836, 326.28372393, 283.78914642,\n",
       "       332.70777409, 361.21959976, 282.44875081, 258.64807183,\n",
       "       270.07222568, 213.43839776, 235.71708302, 304.36835776,\n",
       "       295.64727481, 306.32015522, 310.8777474 , 396.27825215,\n",
       "       305.75288852, 341.83757466, 346.96287502, 331.96272353,\n",
       "       252.03852456, 246.33070218, 280.88294187, 218.20243774,\n",
       "       358.34770677, 394.11894006, 297.41869807, 383.20847738,\n",
       "       269.8749257 , 240.50302748, 233.0707353 , 390.12603551,\n",
       "       333.41284422, 273.94599839, 311.42306186, 286.39856965,\n",
       "       288.52688831, 340.17281866, 362.11131033, 350.99429868,\n",
       "       258.80602469, 243.72937268, 302.93236788, 367.92811961,\n",
       "       248.78640947, 299.88607368, 278.22355783, 219.39290811,\n",
       "       367.87421254, 258.7873322 , 293.7384644 , 346.43279611,\n",
       "       341.33991006, 273.60210177, 261.29084904, 300.01926596])"
      ]
     },
     "execution_count": 20,
     "metadata": {},
     "output_type": "execute_result"
    }
   ],
   "source": [
    "Prediction_LR"
   ]
  },
  {
   "cell_type": "code",
   "execution_count": 21,
   "id": "04439fba",
   "metadata": {},
   "outputs": [
    {
     "data": {
      "text/plain": [
       "0.9908522606198767"
      ]
     },
     "execution_count": 21,
     "metadata": {},
     "output_type": "execute_result"
    }
   ],
   "source": [
    "Stocks_price_predictor_Linear_Reg.score(Test_x,Test_y)"
   ]
  },
  {
   "cell_type": "code",
   "execution_count": 22,
   "id": "ae142215",
   "metadata": {},
   "outputs": [],
   "source": [
    "from sklearn.metrics import mean_squared_error as mse"
   ]
  },
  {
   "cell_type": "code",
   "execution_count": 23,
   "id": "bbd57835",
   "metadata": {},
   "outputs": [],
   "source": [
    "MSE=mse(Test_y,Prediction_LR)"
   ]
  },
  {
   "cell_type": "code",
   "execution_count": 24,
   "id": "2554ee2a",
   "metadata": {},
   "outputs": [],
   "source": [
    "import math\n",
    "rmse=math.sqrt(MSE)"
   ]
  },
  {
   "cell_type": "code",
   "execution_count": 25,
   "id": "ff30f871",
   "metadata": {},
   "outputs": [
    {
     "name": "stdout",
     "output_type": "stream",
     "text": [
      "MSE: 20.157203591997288\n",
      "RMSE: 4.489677448547645\n"
     ]
    }
   ],
   "source": [
    "print(\"MSE:\",MSE)\n",
    "print(\"RMSE:\",rmse)"
   ]
  },
  {
   "cell_type": "code",
   "execution_count": 26,
   "id": "289cb781",
   "metadata": {},
   "outputs": [
    {
     "data": {
      "text/html": [
       "<div>\n",
       "<style scoped>\n",
       "    .dataframe tbody tr th:only-of-type {\n",
       "        vertical-align: middle;\n",
       "    }\n",
       "\n",
       "    .dataframe tbody tr th {\n",
       "        vertical-align: top;\n",
       "    }\n",
       "\n",
       "    .dataframe thead th {\n",
       "        text-align: right;\n",
       "    }\n",
       "</style>\n",
       "<table border=\"1\" class=\"dataframe\">\n",
       "  <thead>\n",
       "    <tr style=\"text-align: right;\">\n",
       "      <th></th>\n",
       "      <th>Date</th>\n",
       "      <th>Open</th>\n",
       "      <th>High</th>\n",
       "      <th>Low</th>\n",
       "      <th>Close</th>\n",
       "      <th>Adj Close</th>\n",
       "      <th>Volume</th>\n",
       "    </tr>\n",
       "  </thead>\n",
       "  <tbody>\n",
       "    <tr>\n",
       "      <th>0</th>\n",
       "      <td>2021-09-29</td>\n",
       "      <td>259.933319</td>\n",
       "      <td>264.500000</td>\n",
       "      <td>256.893341</td>\n",
       "      <td>260.436676</td>\n",
       "      <td>260.436676</td>\n",
       "      <td>62828700</td>\n",
       "    </tr>\n",
       "    <tr>\n",
       "      <th>1</th>\n",
       "      <td>2021-09-30</td>\n",
       "      <td>260.333344</td>\n",
       "      <td>263.043335</td>\n",
       "      <td>258.333344</td>\n",
       "      <td>258.493347</td>\n",
       "      <td>258.493347</td>\n",
       "      <td>53868000</td>\n",
       "    </tr>\n",
       "    <tr>\n",
       "      <th>2</th>\n",
       "      <td>2021-10-01</td>\n",
       "      <td>259.466675</td>\n",
       "      <td>260.260010</td>\n",
       "      <td>254.529999</td>\n",
       "      <td>258.406677</td>\n",
       "      <td>258.406677</td>\n",
       "      <td>51094200</td>\n",
       "    </tr>\n",
       "    <tr>\n",
       "      <th>3</th>\n",
       "      <td>2021-10-04</td>\n",
       "      <td>265.500000</td>\n",
       "      <td>268.989990</td>\n",
       "      <td>258.706665</td>\n",
       "      <td>260.510010</td>\n",
       "      <td>260.510010</td>\n",
       "      <td>91449900</td>\n",
       "    </tr>\n",
       "    <tr>\n",
       "      <th>4</th>\n",
       "      <td>2021-10-05</td>\n",
       "      <td>261.600006</td>\n",
       "      <td>265.769989</td>\n",
       "      <td>258.066681</td>\n",
       "      <td>260.196655</td>\n",
       "      <td>260.196655</td>\n",
       "      <td>55297800</td>\n",
       "    </tr>\n",
       "    <tr>\n",
       "      <th>...</th>\n",
       "      <td>...</td>\n",
       "      <td>...</td>\n",
       "      <td>...</td>\n",
       "      <td>...</td>\n",
       "      <td>...</td>\n",
       "      <td>...</td>\n",
       "      <td>...</td>\n",
       "    </tr>\n",
       "    <tr>\n",
       "      <th>248</th>\n",
       "      <td>2022-09-23</td>\n",
       "      <td>283.089996</td>\n",
       "      <td>284.500000</td>\n",
       "      <td>272.820007</td>\n",
       "      <td>275.329987</td>\n",
       "      <td>275.329987</td>\n",
       "      <td>63615400</td>\n",
       "    </tr>\n",
       "    <tr>\n",
       "      <th>249</th>\n",
       "      <td>2022-09-26</td>\n",
       "      <td>271.829987</td>\n",
       "      <td>284.089996</td>\n",
       "      <td>270.309998</td>\n",
       "      <td>276.010010</td>\n",
       "      <td>276.010010</td>\n",
       "      <td>58076900</td>\n",
       "    </tr>\n",
       "    <tr>\n",
       "      <th>250</th>\n",
       "      <td>2022-09-27</td>\n",
       "      <td>283.839996</td>\n",
       "      <td>288.670013</td>\n",
       "      <td>277.510010</td>\n",
       "      <td>282.940002</td>\n",
       "      <td>282.940002</td>\n",
       "      <td>61925200</td>\n",
       "    </tr>\n",
       "    <tr>\n",
       "      <th>251</th>\n",
       "      <td>2022-09-28</td>\n",
       "      <td>283.079987</td>\n",
       "      <td>289.000000</td>\n",
       "      <td>277.570007</td>\n",
       "      <td>287.809998</td>\n",
       "      <td>287.809998</td>\n",
       "      <td>54664800</td>\n",
       "    </tr>\n",
       "    <tr>\n",
       "      <th>252</th>\n",
       "      <td>2022-09-29</td>\n",
       "      <td>282.760010</td>\n",
       "      <td>283.649994</td>\n",
       "      <td>265.779999</td>\n",
       "      <td>268.209991</td>\n",
       "      <td>268.209991</td>\n",
       "      <td>77393100</td>\n",
       "    </tr>\n",
       "  </tbody>\n",
       "</table>\n",
       "<p>253 rows × 7 columns</p>\n",
       "</div>"
      ],
      "text/plain": [
       "          Date        Open        High         Low       Close   Adj Close  \\\n",
       "0   2021-09-29  259.933319  264.500000  256.893341  260.436676  260.436676   \n",
       "1   2021-09-30  260.333344  263.043335  258.333344  258.493347  258.493347   \n",
       "2   2021-10-01  259.466675  260.260010  254.529999  258.406677  258.406677   \n",
       "3   2021-10-04  265.500000  268.989990  258.706665  260.510010  260.510010   \n",
       "4   2021-10-05  261.600006  265.769989  258.066681  260.196655  260.196655   \n",
       "..         ...         ...         ...         ...         ...         ...   \n",
       "248 2022-09-23  283.089996  284.500000  272.820007  275.329987  275.329987   \n",
       "249 2022-09-26  271.829987  284.089996  270.309998  276.010010  276.010010   \n",
       "250 2022-09-27  283.839996  288.670013  277.510010  282.940002  282.940002   \n",
       "251 2022-09-28  283.079987  289.000000  277.570007  287.809998  287.809998   \n",
       "252 2022-09-29  282.760010  283.649994  265.779999  268.209991  268.209991   \n",
       "\n",
       "       Volume  \n",
       "0    62828700  \n",
       "1    53868000  \n",
       "2    51094200  \n",
       "3    91449900  \n",
       "4    55297800  \n",
       "..        ...  \n",
       "248  63615400  \n",
       "249  58076900  \n",
       "250  61925200  \n",
       "251  54664800  \n",
       "252  77393100  \n",
       "\n",
       "[253 rows x 7 columns]"
      ]
     },
     "execution_count": 26,
     "metadata": {},
     "output_type": "execute_result"
    }
   ],
   "source": [
    "data"
   ]
  },
  {
   "cell_type": "code",
   "execution_count": 27,
   "id": "a1bf3ed2",
   "metadata": {},
   "outputs": [
    {
     "data": {
      "text/plain": [
       "[<matplotlib.lines.Line2D at 0x21e2d4fe610>]"
      ]
     },
     "execution_count": 27,
     "metadata": {},
     "output_type": "execute_result"
    },
    {
     "data": {
      "image/png": "[encoded data removed]",
      "text/plain": [
       "<Figure size 640x480 with 1 Axes>"
      ]
     },
     "metadata": {},
     "output_type": "display_data"
    }
   ],
   "source": [
    "plt.plot(data.index,data['Close'])"
   ]
  },
  {
   "cell_type": "code",
   "execution_count": 28,
   "id": "6d2bcafe",
   "metadata": {},
   "outputs": [],
   "source": [
    "from statsmodels.tsa.ar_model import AutoReg, ar_select_order "
   ]
  },
  {
   "cell_type": "code",
   "execution_count": 29,
   "id": "fbbd34ee",
   "metadata": {},
   "outputs": [
    {
     "name": "stdout",
     "output_type": "stream",
     "text": [
      "<class 'pandas.core.frame.DataFrame'>\n",
      "RangeIndex: 253 entries, 0 to 252\n",
      "Data columns (total 7 columns):\n",
      " #   Column     Non-Null Count  Dtype         \n",
      "---  ------     --------------  -----         \n",
      " 0   Date       253 non-null    datetime64[ns]\n",
      " 1   Open       253 non-null    float64       \n",
      " 2   High       253 non-null    float64       \n",
      " 3   Low        253 non-null    float64       \n",
      " 4   Close      253 non-null    float64       \n",
      " 5   Adj Close  253 non-null    float64       \n",
      " 6   Volume     253 non-null    int64         \n",
      "dtypes: datetime64[ns](1), float64(5), int64(1)\n",
      "memory usage: 14.0 KB\n"
     ]
    }
   ],
   "source": [
    "data.info()"
   ]
  },
  {
   "cell_type": "code",
   "execution_count": 30,
   "id": "0e1776f7",
   "metadata": {},
   "outputs": [
    {
     "data": {
      "text/plain": [
       "[<matplotlib.lines.Line2D at 0x21e2edd3f50>]"
      ]
     },
     "execution_count": 30,
     "metadata": {},
     "output_type": "execute_result"
    },
    {
     "data": {
      "image/png": "[encoded data removed]",
      "text/plain": [
       "<Figure size 640x480 with 1 Axes>"
      ]
     },
     "metadata": {},
     "output_type": "display_data"
    }
   ],
   "source": [
    "plt.plot(data['Date'],data['Close'])"
   ]
  },
  {
   "cell_type": "code",
   "execution_count": 31,
   "id": "e66a7bfc",
   "metadata": {},
   "outputs": [],
   "source": [
    "order=3\n",
    "AR_model=AutoReg(data['Close'],order)"
   ]
  },
  {
   "cell_type": "code",
   "execution_count": 32,
   "id": "f661e3fd",
   "metadata": {},
   "outputs": [],
   "source": [
    "AutoReg_Result=AR_model.fit()"
   ]
  },
  {
   "cell_type": "code",
   "execution_count": 33,
   "id": "47ee4ebd",
   "metadata": {},
   "outputs": [
    {
     "data": {
      "text/html": [
       "<table class=\"simpletable\">\n",
       "<caption>AutoReg Model Results</caption>\n",
       "<tr>\n",
       "  <th>Dep. Variable:</th>       <td>Close</td>      <th>  No. Observations:  </th>    <td>253</td>  \n",
       "</tr>\n",
       "<tr>\n",
       "  <th>Model:</th>            <td>AutoReg(3)</td>    <th>  Log Likelihood     </th> <td>-981.051</td>\n",
       "</tr>\n",
       "<tr>\n",
       "  <th>Method:</th>         <td>Conditional MLE</td> <th>  S.D. of innovations</th>  <td>12.247</td> \n",
       "</tr>\n",
       "<tr>\n",
       "  <th>Date:</th>          <td>Fri, 12 Jan 2024</td> <th>  AIC                </th> <td>1972.103</td>\n",
       "</tr>\n",
       "<tr>\n",
       "  <th>Time:</th>              <td>23:30:23</td>     <th>  BIC                </th> <td>1989.710</td>\n",
       "</tr>\n",
       "<tr>\n",
       "  <th>Sample:</th>                <td>3</td>        <th>  HQIC               </th> <td>1979.189</td>\n",
       "</tr>\n",
       "<tr>\n",
       "  <th></th>                      <td>253</td>       <th>                     </th>     <td> </td>   \n",
       "</tr>\n",
       "</table>\n",
       "<table class=\"simpletable\">\n",
       "<tr>\n",
       "      <td></td>        <th>coef</th>     <th>std err</th>      <th>z</th>      <th>P>|z|</th>  <th>[0.025</th>    <th>0.975]</th>  \n",
       "</tr>\n",
       "<tr>\n",
       "  <th>const</th>    <td>   11.4035</td> <td>    5.219</td> <td>    2.185</td> <td> 0.029</td> <td>    1.174</td> <td>   21.633</td>\n",
       "</tr>\n",
       "<tr>\n",
       "  <th>Close.L1</th> <td>    0.9609</td> <td>    0.064</td> <td>   15.115</td> <td> 0.000</td> <td>    0.836</td> <td>    1.085</td>\n",
       "</tr>\n",
       "<tr>\n",
       "  <th>Close.L2</th> <td>    0.0232</td> <td>    0.088</td> <td>    0.263</td> <td> 0.793</td> <td>   -0.150</td> <td>    0.196</td>\n",
       "</tr>\n",
       "<tr>\n",
       "  <th>Close.L3</th> <td>   -0.0219</td> <td>    0.063</td> <td>   -0.345</td> <td> 0.730</td> <td>   -0.146</td> <td>    0.103</td>\n",
       "</tr>\n",
       "</table>\n",
       "<table class=\"simpletable\">\n",
       "<caption>Roots</caption>\n",
       "<tr>\n",
       "    <td></td>   <th>            Real</th>  <th>         Imaginary</th> <th>         Modulus</th>  <th>        Frequency</th>\n",
       "</tr>\n",
       "<tr>\n",
       "  <th>AR.1</th> <td>           1.0403</td> <td>          +0.0000j</td> <td>           1.0403</td> <td>           0.0000</td>\n",
       "</tr>\n",
       "<tr>\n",
       "  <th>AR.2</th> <td>          -6.6113</td> <td>          +0.0000j</td> <td>           6.6113</td> <td>           0.5000</td>\n",
       "</tr>\n",
       "<tr>\n",
       "  <th>AR.3</th> <td>           6.6286</td> <td>          +0.0000j</td> <td>           6.6286</td> <td>           0.0000</td>\n",
       "</tr>\n",
       "</table>"
      ],
      "text/latex": [
       "\\begin{center}\n",
       "\\begin{tabular}{lclc}\n",
       "\\toprule\n",
       "\\textbf{Dep. Variable:} &           Close           & \\textbf{  No. Observations:  } &            253             \\\\\n",
       "\\textbf{Model:}         &         AutoReg(3)        & \\textbf{  Log Likelihood     } &          -981.051          \\\\\n",
       "\\textbf{Method:}        &      Conditional MLE      & \\textbf{  S.D. of innovations} &           12.247           \\\\\n",
       "\\textbf{Date:}          &      Fri, 12 Jan 2024     & \\textbf{  AIC                } &          1972.103          \\\\\n",
       "\\textbf{Time:}          &          23:30:23         & \\textbf{  BIC                } &          1989.710          \\\\\n",
       "\\textbf{Sample:}        &             3             & \\textbf{  HQIC               } &          1979.189          \\\\\n",
       "\\textbf{}               &            253            & \\textbf{                     } &                            \\\\\n",
       "\\bottomrule\n",
       "\\end{tabular}\n",
       "\\begin{tabular}{lcccccc}\n",
       "                  & \\textbf{coef} & \\textbf{std err} & \\textbf{z} & \\textbf{P$> |$z$|$} & \\textbf{[0.025} & \\textbf{0.975]}  \\\\\n",
       "\\midrule\n",
       "\\textbf{const}    &      11.4035  &        5.219     &     2.185  &         0.029        &        1.174    &       21.633     \\\\\n",
       "\\textbf{Close.L1} &       0.9609  &        0.064     &    15.115  &         0.000        &        0.836    &        1.085     \\\\\n",
       "\\textbf{Close.L2} &       0.0232  &        0.088     &     0.263  &         0.793        &       -0.150    &        0.196     \\\\\n",
       "\\textbf{Close.L3} &      -0.0219  &        0.063     &    -0.345  &         0.730        &       -0.146    &        0.103     \\\\\n",
       "\\bottomrule\n",
       "\\end{tabular}\n",
       "\\begin{tabular}{lcccc}\n",
       "              & \\textbf{            Real} & \\textbf{         Imaginary} & \\textbf{         Modulus} & \\textbf{        Frequency}  \\\\\n",
       "\\midrule\n",
       "\\textbf{AR.1} &                1.0403     &                +0.0000j     &                1.0403     &                0.0000       \\\\\n",
       "\\textbf{AR.2} &               -6.6113     &                +0.0000j     &                6.6113     &                0.5000       \\\\\n",
       "\\textbf{AR.3} &                6.6286     &                +0.0000j     &                6.6286     &                0.0000       \\\\\n",
       "\\bottomrule\n",
       "\\end{tabular}\n",
       "%\\caption{AutoReg Model Results}\n",
       "\\end{center}"
      ],
      "text/plain": [
       "<class 'statsmodels.iolib.summary.Summary'>\n",
       "\"\"\"\n",
       "                            AutoReg Model Results                             \n",
       "==============================================================================\n",
       "Dep. Variable:                  Close   No. Observations:                  253\n",
       "Model:                     AutoReg(3)   Log Likelihood                -981.051\n",
       "Method:               Conditional MLE   S.D. of innovations             12.247\n",
       "Date:                Fri, 12 Jan 2024   AIC                           1972.103\n",
       "Time:                        23:30:23   BIC                           1989.710\n",
       "Sample:                             3   HQIC                          1979.189\n",
       "                                  253                                         \n",
       "==============================================================================\n",
       "                 coef    std err          z      P>|z|      [0.025      0.975]\n",
       "------------------------------------------------------------------------------\n",
       "const         11.4035      5.219      2.185      0.029       1.174      21.633\n",
       "Close.L1       0.9609      0.064     15.115      0.000       0.836       1.085\n",
       "Close.L2       0.0232      0.088      0.263      0.793      -0.150       0.196\n",
       "Close.L3      -0.0219      0.063     -0.345      0.730      -0.146       0.103\n",
       "                                    Roots                                    \n",
       "=============================================================================\n",
       "                  Real          Imaginary           Modulus         Frequency\n",
       "-----------------------------------------------------------------------------\n",
       "AR.1            1.0403           +0.0000j            1.0403            0.0000\n",
       "AR.2           -6.6113           +0.0000j            6.6113            0.5000\n",
       "AR.3            6.6286           +0.0000j            6.6286            0.0000\n",
       "-----------------------------------------------------------------------------\n",
       "\"\"\""
      ]
     },
     "execution_count": 33,
     "metadata": {},
     "output_type": "execute_result"
    }
   ],
   "source": [
    "AutoReg_Result.summary()"
   ]
  },
  {
   "cell_type": "code",
   "execution_count": 46,
   "id": "a0b7d3be",
   "metadata": {},
   "outputs": [],
   "source": [
    "future_dates = pd.date_range(start=data['Date'].max() + pd.DateOffset(1), periods=90, freq='D')\n",
    "Predictions_timeseries=AutoReg_Result.predict(start=len(data),end=len(data)+89, dynamic=False)\n",
    "future_df = pd.DataFrame({'Date': future_dates, 'Predicted Price': Predictions_timeseries})"
   ]
  },
  {
   "cell_type": "code",
   "execution_count": 47,
   "id": "9e3a587c",
   "metadata": {},
   "outputs": [
    {
     "data": {
      "text/plain": [
       "253    269.588725\n",
       "254    270.351981\n",
       "255    271.547276\n",
       "256    272.683262\n",
       "257    273.785783\n",
       "          ...    \n",
       "338    300.029139\n",
       "339    300.072338\n",
       "340    300.113864\n",
       "341    300.153782\n",
       "342    300.192153\n",
       "Length: 90, dtype: float64"
      ]
     },
     "execution_count": 47,
     "metadata": {},
     "output_type": "execute_result"
    }
   ],
   "source": [
    "Predictions_timeseries"
   ]
  },
  {
   "cell_type": "code",
   "execution_count": 48,
   "id": "bb3d1912",
   "metadata": {},
   "outputs": [
    {
     "data": {
      "image/png": "[encoded data removed]",
      "text/plain": [
       "<Figure size 1000x600 with 1 Axes>"
      ]
     },
     "metadata": {},
     "output_type": "display_data"
    }
   ],
   "source": [
    "plt.figure(figsize=(10, 6))\n",
    "plt.plot(data['Date'], data['Close'], label='Historical Data')\n",
    "plt.plot(future_df['Date'], future_df['Predicted Price'], color='red', label='Predicted')\n",
    "plt.title('Stock Price Prediction for the Next 6 Months')\n",
    "plt.xlabel('Date')\n",
    "plt.ylabel('Closing Price')\n",
    "plt.legend()\n",
    "\n",
    "plt.show()"
   ]
  },
  {
   "cell_type": "code",
   "execution_count": null,
   "id": "4c25fd14",
   "metadata": {},
   "outputs": [],
   "source": []
  },
  {
   "cell_type": "code",
   "execution_count": null,
   "id": "78c62fce",
   "metadata": {},
   "outputs": [],
   "source": []
  }
 ],
 "metadata": {
  "kernelspec": {
   "display_name": "Python 3 (ipykernel)",
   "language": "python",
   "name": "python3"
  },
  "language_info": {
   "codemirror_mode": {
    "name": "ipython",
    "version": 3
   },
   "file_extension": ".py",
   "mimetype": "text/x-python",
   "name": "python",
   "nbconvert_exporter": "python",
   "pygments_lexer": "ipython3",
   "version": "3.11.5"
  }
 },
 "nbformat": 4,
 "nbformat_minor": 5
}
